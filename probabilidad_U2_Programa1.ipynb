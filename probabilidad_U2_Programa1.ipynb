{
  "nbformat": 4,
  "nbformat_minor": 0,
  "metadata": {
    "colab": {
      "provenance": [],
      "authorship_tag": "ABX9TyNB35sWxg0b4fM/w1Li6+PR",
      "include_colab_link": true
    },
    "kernelspec": {
      "name": "python3",
      "display_name": "Python 3"
    },
    "language_info": {
      "name": "python"
    }
  },
  "cells": [
    {
      "cell_type": "markdown",
      "metadata": {
        "id": "view-in-github",
        "colab_type": "text"
      },
      "source": [
        "<a href=\"https://colab.research.google.com/github/celii017/Probabilidad-y-estadistica/blob/main/probabilidad_U2_Programa1.ipynb\" target=\"_parent\"><img src=\"https://colab.research.google.com/assets/colab-badge.svg\" alt=\"Open In Colab\"/></a>"
      ]
    },
    {
      "cell_type": "markdown",
      "source": [
        "#UNIDAD 2\n",
        "#**PROBABILIDAD Y ESTADISTICA **\n",
        "\n",
        "Practica 1\n",
        "Alumna: CELINA GUADALUPE CASTILLO ALMARAZ\n",
        "PROFESOR: JOSE GABRIEL RODRIGUEZ RIVAS"
      ],
      "metadata": {
        "id": "uhSy8eDDQVpY"
      }
    },
    {
      "cell_type": "code",
      "source": [
        "import math as mt #Para utilizar factorial\n",
        "from itertools import combinations\n",
        "from itertools import combinations_with_replacement\n",
        "import numpy as np"
      ],
      "metadata": {
        "id": "pBdN0kyuQrTc"
      },
      "execution_count": 1,
      "outputs": []
    },
    {
      "cell_type": "code",
      "source": [
        "nombres = [\"Oscar\", \"Paco\", \"Paty\", \"Laura\", \"Ruben\", \"Luis\", \"Lucy\", \"Alberto\", \"Juan\", \"Danny\"]\n",
        "n = len(nombres)\n",
        "r = 2 # ¿como agrupar?\n",
        "cn =mt.factorial(n) / (mt.factorial(r) * mt.factorial(n-r))\n",
        "print(\"Existen \", cn, \" posibles combinaciones sin repeticion del total de \", n, \"nombres\", \"en grupos de\", r, \"en\")\n",
        "print(\"Aqui las combinaciones\")\n",
        "combinacionesNombres = list(combinations(nombres, r))\n",
        "#Imprime las combinaciones\n",
        "for combinacion in combinacionesNombres:\n",
        "    print(combinacion)"
      ],
      "metadata": {
        "colab": {
          "base_uri": "https://localhost:8080/"
        },
        "id": "lD4ORJ7tRpm6",
        "outputId": "79d994f8-6494-48cb-a268-a5ee6c01331f"
      },
      "execution_count": 2,
      "outputs": [
        {
          "output_type": "stream",
          "name": "stdout",
          "text": [
            "Existen  45.0  posibles combinaciones sin repeticion del total de  10 nombres en grupos de 2 en\n",
            "Aqui las combinaciones\n",
            "('Oscar', 'Paco')\n",
            "('Oscar', 'Paty')\n",
            "('Oscar', 'Laura')\n",
            "('Oscar', 'Ruben')\n",
            "('Oscar', 'Luis')\n",
            "('Oscar', 'Lucy')\n",
            "('Oscar', 'Alberto')\n",
            "('Oscar', 'Juan')\n",
            "('Oscar', 'Danny')\n",
            "('Paco', 'Paty')\n",
            "('Paco', 'Laura')\n",
            "('Paco', 'Ruben')\n",
            "('Paco', 'Luis')\n",
            "('Paco', 'Lucy')\n",
            "('Paco', 'Alberto')\n",
            "('Paco', 'Juan')\n",
            "('Paco', 'Danny')\n",
            "('Paty', 'Laura')\n",
            "('Paty', 'Ruben')\n",
            "('Paty', 'Luis')\n",
            "('Paty', 'Lucy')\n",
            "('Paty', 'Alberto')\n",
            "('Paty', 'Juan')\n",
            "('Paty', 'Danny')\n",
            "('Laura', 'Ruben')\n",
            "('Laura', 'Luis')\n",
            "('Laura', 'Lucy')\n",
            "('Laura', 'Alberto')\n",
            "('Laura', 'Juan')\n",
            "('Laura', 'Danny')\n",
            "('Ruben', 'Luis')\n",
            "('Ruben', 'Lucy')\n",
            "('Ruben', 'Alberto')\n",
            "('Ruben', 'Juan')\n",
            "('Ruben', 'Danny')\n",
            "('Luis', 'Lucy')\n",
            "('Luis', 'Alberto')\n",
            "('Luis', 'Juan')\n",
            "('Luis', 'Danny')\n",
            "('Lucy', 'Alberto')\n",
            "('Lucy', 'Juan')\n",
            "('Lucy', 'Danny')\n",
            "('Alberto', 'Juan')\n",
            "('Alberto', 'Danny')\n",
            "('Juan', 'Danny')\n"
          ]
        }
      ]
    },
    {
      "cell_type": "markdown",
      "source": [
        "EJEMPLO 2"
      ],
      "metadata": {
        "id": "g069kWFTWTUH"
      }
    },
    {
      "cell_type": "code",
      "source": [
        "caracteres =[\"A\", \"B\", \"C\", \"D\", \"E\", \"F\" \"0\", \"1\", \"2\", \"3\", \"4\", \"5\"]\n",
        "n= len(caracteres)\n",
        "r = 10 #¿como agrupar?\n",
        "cn = mt.factorial(n) / (mt.factorial(r) * mt.factorial(n - r))\n",
        "print(\"Existen \", cn, \"posibles combinaciones sin repeticion del total de\", n, \"caracteres\" \"en grupos de\", r, \"en\")\n",
        "print (\"Aqui las combinaciones\")\n",
        "combinacionesCaracteres  = list(combinations(caracteres, r))\n",
        "for combinacion in combinacionesCaracteres:\n",
        "    print(combinacion)"
      ],
      "metadata": {
        "colab": {
          "base_uri": "https://localhost:8080/"
        },
        "id": "28vQz3MWWVDX",
        "outputId": "5504916b-ed07-4bfc-9291-b36e39d86cdf"
      },
      "execution_count": 5,
      "outputs": [
        {
          "output_type": "stream",
          "name": "stdout",
          "text": [
            "Existen  11.0 posibles combinaciones sin repeticion del total de 11 caracteresen grupos de 10 en\n",
            "Aqui las combinaciones\n",
            "('A', 'B', 'C', 'D', 'E', 'F0', '1', '2', '3', '4')\n",
            "('A', 'B', 'C', 'D', 'E', 'F0', '1', '2', '3', '5')\n",
            "('A', 'B', 'C', 'D', 'E', 'F0', '1', '2', '4', '5')\n",
            "('A', 'B', 'C', 'D', 'E', 'F0', '1', '3', '4', '5')\n",
            "('A', 'B', 'C', 'D', 'E', 'F0', '2', '3', '4', '5')\n",
            "('A', 'B', 'C', 'D', 'E', '1', '2', '3', '4', '5')\n",
            "('A', 'B', 'C', 'D', 'F0', '1', '2', '3', '4', '5')\n",
            "('A', 'B', 'C', 'E', 'F0', '1', '2', '3', '4', '5')\n",
            "('A', 'B', 'D', 'E', 'F0', '1', '2', '3', '4', '5')\n",
            "('A', 'C', 'D', 'E', 'F0', '1', '2', '3', '4', '5')\n",
            "('B', 'C', 'D', 'E', 'F0', '1', '2', '3', '4', '5')\n"
          ]
        }
      ]
    },
    {
      "cell_type": "markdown",
      "source": [
        "EJEMPLO 3"
      ],
      "metadata": {
        "id": "zLw5dhNPZFoL"
      }
    },
    {
      "cell_type": "code",
      "source": [
        "dado = [1,2,3,4,5,6]\n",
        "n = len(dado)\n",
        "r = 2 #¿como agrupar?, de dos en dos porque hay dos dados\n",
        "\n",
        "cnr = mt.factorial(n + r -1) / (mt.factorial(r) * mt.factorial((n + r -1) -r ))\n",
        "print(\"Existen \", cnr, \" posiblescombinaciones con repeticion del total de \", n, \"datos\", \"en grupos de\", r, \"en\")\n",
        "print(\"Aqui las combinaciones con repeticion de dos datos\")\n",
        "\n",
        "#Definir el conjunto de elementos\n",
        "elementos = [1,2,3,4,5]\n",
        "\n",
        "#numero de elementos a elegor en cada combinacion\n",
        "r = 2\n",
        "\n",
        "#calcular las combinaciones con repeticion\n",
        "combinacionesDados = list(combinations_with_replacement(dado, r))\n",
        "\n",
        "#imprimir las combinaciones\n",
        "for combinacionesDados in combinacionesDados:\n",
        "        print(combinacion)\n"
      ],
      "metadata": {
        "colab": {
          "base_uri": "https://localhost:8080/"
        },
        "id": "vQ3nBsSFZHOv",
        "outputId": "9f9946a4-b26b-4ecc-d313-d35d2b64235d"
      },
      "execution_count": 10,
      "outputs": [
        {
          "output_type": "stream",
          "name": "stdout",
          "text": [
            "Existen  21.0  posiblescombinaciones con repeticion del total de  6 datos en grupos de 2 en\n",
            "Aqui las combinaciones con repeticion de dos datos\n",
            "('B', 'C', 'D', 'E', 'F0', '1', '2', '3', '4', '5')\n",
            "('B', 'C', 'D', 'E', 'F0', '1', '2', '3', '4', '5')\n",
            "('B', 'C', 'D', 'E', 'F0', '1', '2', '3', '4', '5')\n",
            "('B', 'C', 'D', 'E', 'F0', '1', '2', '3', '4', '5')\n",
            "('B', 'C', 'D', 'E', 'F0', '1', '2', '3', '4', '5')\n",
            "('B', 'C', 'D', 'E', 'F0', '1', '2', '3', '4', '5')\n",
            "('B', 'C', 'D', 'E', 'F0', '1', '2', '3', '4', '5')\n",
            "('B', 'C', 'D', 'E', 'F0', '1', '2', '3', '4', '5')\n",
            "('B', 'C', 'D', 'E', 'F0', '1', '2', '3', '4', '5')\n",
            "('B', 'C', 'D', 'E', 'F0', '1', '2', '3', '4', '5')\n",
            "('B', 'C', 'D', 'E', 'F0', '1', '2', '3', '4', '5')\n",
            "('B', 'C', 'D', 'E', 'F0', '1', '2', '3', '4', '5')\n",
            "('B', 'C', 'D', 'E', 'F0', '1', '2', '3', '4', '5')\n",
            "('B', 'C', 'D', 'E', 'F0', '1', '2', '3', '4', '5')\n",
            "('B', 'C', 'D', 'E', 'F0', '1', '2', '3', '4', '5')\n",
            "('B', 'C', 'D', 'E', 'F0', '1', '2', '3', '4', '5')\n",
            "('B', 'C', 'D', 'E', 'F0', '1', '2', '3', '4', '5')\n",
            "('B', 'C', 'D', 'E', 'F0', '1', '2', '3', '4', '5')\n",
            "('B', 'C', 'D', 'E', 'F0', '1', '2', '3', '4', '5')\n",
            "('B', 'C', 'D', 'E', 'F0', '1', '2', '3', '4', '5')\n",
            "('B', 'C', 'D', 'E', 'F0', '1', '2', '3', '4', '5')\n"
          ]
        }
      ]
    }
  ]
}