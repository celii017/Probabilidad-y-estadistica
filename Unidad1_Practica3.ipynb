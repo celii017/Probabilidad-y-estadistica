{
  "nbformat": 4,
  "nbformat_minor": 0,
  "metadata": {
    "colab": {
      "provenance": [],
      "authorship_tag": "ABX9TyNOBmkdmOtOeY2+GF7fYbfV",
      "include_colab_link": true
    },
    "kernelspec": {
      "name": "python3",
      "display_name": "Python 3"
    },
    "language_info": {
      "name": "python"
    }
  },
  "cells": [
    {
      "cell_type": "markdown",
      "metadata": {
        "id": "view-in-github",
        "colab_type": "text"
      },
      "source": [
        "<a href=\"https://colab.research.google.com/github/celii017/Probabilidad-y-estadistica/blob/main/Unidad1_Practica3.ipynb\" target=\"_parent\"><img src=\"https://colab.research.google.com/assets/colab-badge.svg\" alt=\"Open In Colab\"/></a>"
      ]
    },
    {
      "cell_type": "markdown",
      "source": [
        "UNIDAD 1\n",
        "\n",
        "---PRACTICA 3 MAXIMO, MINIMO, TRANGO Y DISPERSION DE DATOS++\n",
        "FACILITADOR: DR.JOSE GABRIEL RODRIGUEZ RIVAS\n",
        "ALUMNA: CELINA GUADALUPE CASTILLO ALMARAZ\n",
        "\n"
      ],
      "metadata": {
        "id": "JHmm6RvhgbyP"
      }
    },
    {
      "cell_type": "code",
      "source": [
        "import random\n",
        "import matplotlib.pyplot as plt\n",
        "from statistics import *\n"
      ],
      "metadata": {
        "id": "63XMiwP7ggrQ"
      },
      "execution_count": 2,
      "outputs": []
    },
    {
      "cell_type": "code",
      "source": [
        "fabrica1 =[]\n",
        "for i in range(100):\n",
        "  numero_aleatorio = round( random.uniform(50,100), 2 )\n",
        "  fabrica1.append(numero_aleatorio)\n",
        "print(fabrica1)"
      ],
      "metadata": {
        "colab": {
          "base_uri": "https://localhost:8080/"
        },
        "id": "xmNEMm4jg0RG",
        "outputId": "88e19c0a-7818-4b40-fbe6-ef3d7bf2a8c7"
      },
      "execution_count": 3,
      "outputs": [
        {
          "output_type": "stream",
          "name": "stdout",
          "text": [
            "[66.61, 93.69, 84.24, 70.93, 55.37, 97.88, 80.46, 65.98, 90.56, 72.04, 54.76, 98.77, 65.36, 54.32, 78.35, 70.32, 84.9, 81.18, 68.23, 50.06, 63.3, 59.3, 74.08, 96.44, 63.02, 68.72, 57.53, 93.63, 93.88, 51.42, 63.65, 76.42, 61.97, 72.42, 54.89, 99.36, 70.22, 80.02, 74.28, 98.72, 99.22, 96.75, 86.08, 57.85, 76.37, 79.08, 92.2, 96.15, 70.53, 99.17, 96.68, 91.03, 85.67, 68.31, 74.59, 81.79, 55.34, 74.58, 85.32, 62.73, 60.17, 60.3, 82.66, 77.01, 76.02, 69.58, 84.02, 95.39, 62.52, 93.48, 86.08, 52.31, 63.01, 74.77, 66.69, 70.35, 99.53, 67.48, 60.6, 68.47, 81.73, 63.94, 56.38, 53.76, 87.74, 52.71, 97.84, 85.59, 52.45, 55.52, 50.34, 96.28, 68.35, 77.31, 98.75, 82.34, 81.7, 77.7, 86.68, 50.24]\n"
          ]
        }
      ]
    },
    {
      "cell_type": "code",
      "source": [
        "maximo1 = max(fabrica1)\n",
        "minimo1 = min(fabrica1)\n",
        "rango1 = maximo1 - minimo1\n",
        "media1 = mean(fabrica1)\n",
        "mediana1 = median(fabrica1)\n",
        "moda1 = mode(fabrica1)\n",
        "\n",
        "print(\"Estadistica descriptiva de la fabrica 1 /n\", \"media =\", media1,\n",
        "      \"/n Mediana =\", mediana1, \"/n moda =\", moda1, \"/n maximo =\", maximo1,\n",
        "      \"/n Minimo = Minimo =\", minimo1, \"/n rango =\", rango1)\n"
      ],
      "metadata": {
        "colab": {
          "base_uri": "https://localhost:8080/"
        },
        "id": "W_WMgCr1htUm",
        "outputId": "d2d51746-9076-41af-ccd1-e47adea9576a"
      },
      "execution_count": 4,
      "outputs": [
        {
          "output_type": "stream",
          "name": "stdout",
          "text": [
            "Estadistica descriptiva de la fabrica 1 /n media = 75.1451 /n Mediana = 74.58500000000001 /n moda = 86.08 /n maximo = 99.53 /n Minimo = Minimo = 50.06 /n rango = 49.47\n"
          ]
        }
      ]
    },
    {
      "cell_type": "code",
      "source": [
        "fabrica2 = []\n",
        "for i in range (100):\n",
        " numero_aleatorio = (random.uniform(50,100), 2)\n",
        " fabrica2.append(numero_aleatorio)\n",
        "print(fabrica2)\n"
      ],
      "metadata": {
        "colab": {
          "base_uri": "https://localhost:8080/"
        },
        "id": "5bu9n-zoFMnV",
        "outputId": "d1046a3f-deed-4780-e052-4f17e8e754eb"
      },
      "execution_count": 5,
      "outputs": [
        {
          "output_type": "stream",
          "name": "stdout",
          "text": [
            "[(56.44367472569608, 2), (55.27270558359215, 2), (73.82065639078452, 2), (63.11282917776306, 2), (92.83448308149136, 2), (73.61215233629049, 2), (88.65816657759105, 2), (77.8230176776497, 2), (81.22573418413266, 2), (99.04156674509572, 2), (76.81957759127472, 2), (54.49781747551827, 2), (54.493524715779074, 2), (97.68315117138266, 2), (85.38690901829654, 2), (77.8251795529043, 2), (65.71259855224831, 2), (90.08636295864595, 2), (72.72521392199366, 2), (93.40859716184107, 2), (68.94989007247055, 2), (60.48902882910017, 2), (85.90315549584287, 2), (83.7117009308471, 2), (53.845478823979136, 2), (65.87026843142998, 2), (80.63058814871829, 2), (71.69950871621603, 2), (76.54621085002135, 2), (74.06907091861294, 2), (61.246311170163196, 2), (93.34262880072532, 2), (78.7821582893801, 2), (80.89726218529337, 2), (77.91091473946145, 2), (80.75246901415855, 2), (67.24610705150023, 2), (69.90634123877659, 2), (79.90359831956874, 2), (67.37510128506742, 2), (81.15219457580476, 2), (92.71524246596701, 2), (81.71500201775642, 2), (64.4454714946914, 2), (71.08771898992785, 2), (89.15312107141966, 2), (98.20406119854064, 2), (72.88462898756762, 2), (56.44719088192131, 2), (85.97616137585405, 2), (81.39465327235943, 2), (50.02031267525939, 2), (57.18234756788616, 2), (51.74187953280277, 2), (67.17434863871507, 2), (77.14465932457125, 2), (84.55240527382068, 2), (62.06155222017921, 2), (58.95543956585677, 2), (56.22272592244127, 2), (95.39497553033242, 2), (86.64713687202749, 2), (63.948840960912776, 2), (63.698806788496846, 2), (79.8361327094435, 2), (92.92371703409094, 2), (89.0771272200749, 2), (78.82529719393236, 2), (67.4088450982436, 2), (58.616413955457546, 2), (97.06870111081987, 2), (66.29430952340036, 2), (53.425106551318585, 2), (61.013838352022916, 2), (62.89594630834648, 2), (99.91139162451489, 2), (66.54531599970205, 2), (73.9416063431934, 2), (72.27695641092919, 2), (61.13982806720091, 2), (64.76595599231133, 2), (67.9686507608708, 2), (68.6240689086304, 2), (95.33504129065355, 2), (75.76157889134174, 2), (79.03838621943345, 2), (54.062015903935226, 2), (72.46710833286261, 2), (50.97424944717882, 2), (67.12590323052811, 2), (96.45960248545765, 2), (59.20813320550944, 2), (53.83533461272779, 2), (75.63865557529712, 2), (85.94229120556825, 2), (89.85335188595405, 2), (95.89135467016581, 2), (99.9280475081037, 2), (89.50289507045483, 2), (67.42457519605092, 2)]\n"
          ]
        }
      ]
    },
    {
      "cell_type": "code",
      "source": [
        "maximo2 = max(fabrica2)\n",
        "minimo2 = min(fabrica2)\n",
        "rango2 = maximo2 - minimo2\n",
        "media2 = mean(fabrica2)\n",
        "mediana2 = median(fabrica2)\n",
        "moda2 = mode(fabrica2)\n",
        "\n",
        "print(\"Estadistica descriptiva de la fabrica 2 /n\", \"media=\", media2,\n",
        "      \"/n mediana =\", mediana2, \"/n moda =\", moda2, \"/n maximo =\", maximo2,\n",
        "      \"/n minimo = minimo=\", minimo2, \"/n rango =\", rango2)"
      ],
      "metadata": {
        "colab": {
          "base_uri": "https://localhost:8080/",
          "height": 210
        },
        "id": "7NpoQG6AkUXg",
        "outputId": "755a74e5-92be-4b2a-8852-8d40db895a77"
      },
      "execution_count": 6,
      "outputs": [
        {
          "output_type": "error",
          "ename": "TypeError",
          "evalue": "unsupported operand type(s) for -: 'tuple' and 'tuple'",
          "traceback": [
            "\u001b[0;31m---------------------------------------------------------------------------\u001b[0m",
            "\u001b[0;31mTypeError\u001b[0m                                 Traceback (most recent call last)",
            "\u001b[0;32m<ipython-input-6-c7bb5edbf0c8>\u001b[0m in \u001b[0;36m<cell line: 0>\u001b[0;34m()\u001b[0m\n\u001b[1;32m      1\u001b[0m \u001b[0mmaximo2\u001b[0m \u001b[0;34m=\u001b[0m \u001b[0mmax\u001b[0m\u001b[0;34m(\u001b[0m\u001b[0mfabrica2\u001b[0m\u001b[0;34m)\u001b[0m\u001b[0;34m\u001b[0m\u001b[0;34m\u001b[0m\u001b[0m\n\u001b[1;32m      2\u001b[0m \u001b[0mminimo2\u001b[0m \u001b[0;34m=\u001b[0m \u001b[0mmin\u001b[0m\u001b[0;34m(\u001b[0m\u001b[0mfabrica2\u001b[0m\u001b[0;34m)\u001b[0m\u001b[0;34m\u001b[0m\u001b[0;34m\u001b[0m\u001b[0m\n\u001b[0;32m----> 3\u001b[0;31m \u001b[0mrango2\u001b[0m \u001b[0;34m=\u001b[0m \u001b[0mmaximo2\u001b[0m \u001b[0;34m-\u001b[0m \u001b[0mminimo2\u001b[0m\u001b[0;34m\u001b[0m\u001b[0;34m\u001b[0m\u001b[0m\n\u001b[0m\u001b[1;32m      4\u001b[0m \u001b[0mmedia2\u001b[0m \u001b[0;34m=\u001b[0m \u001b[0mmean\u001b[0m\u001b[0;34m(\u001b[0m\u001b[0mfabrica2\u001b[0m\u001b[0;34m)\u001b[0m\u001b[0;34m\u001b[0m\u001b[0;34m\u001b[0m\u001b[0m\n\u001b[1;32m      5\u001b[0m \u001b[0mmediana2\u001b[0m \u001b[0;34m=\u001b[0m \u001b[0mmedian\u001b[0m\u001b[0;34m(\u001b[0m\u001b[0mfabrica2\u001b[0m\u001b[0;34m)\u001b[0m\u001b[0;34m\u001b[0m\u001b[0;34m\u001b[0m\u001b[0m\n",
            "\u001b[0;31mTypeError\u001b[0m: unsupported operand type(s) for -: 'tuple' and 'tuple'"
          ]
        }
      ]
    },
    {
      "cell_type": "code",
      "source": [
        "plt.figure(figsize= (8,6) )\n",
        "plt.hist(fabrica1, bins=10, alpha=0.2, color='b', edgecolor = \"black\")\n",
        "plt.axvline(media1, color= 'b', linestyle='dashed', linewidth=2, label=f'media={media1:.2f}')\n",
        "plt.axvline(mediana1, color='r', linestyle= 'dashed', linewidth=2, label=f'mediana={mediana1:.2f}')\n",
        "plt.axvline(moda1, color='y', linestyle= 'dashed' , linewidth=2, label=f'moda={moda1:.2f}')\n",
        "plt.axvline(media1 - desviacion_estandar_fabrica1, color='black', linestyle='dashed', linewidth=2, label=f={desviacion_estandar_fabrica1:.2f}')\n",
        "plt.axvline(media1 + desviacion_estandar_fabrica1, color='black',  linestyle='dashed', linewidth=2)\n",
        "plt.xlabel('valor')\n",
        "plt.ylabel('frecuencia')\n",
        "plt.title(\"produccion diaria de la fabrica 1\")\n",
        "plt.legend()\n",
        "plt.show()"
      ],
      "metadata": {
        "colab": {
          "base_uri": "https://localhost:8080/",
          "height": 106
        },
        "id": "TIBdWxQSk8JV",
        "outputId": "b3c7ce41-3c36-439f-ab38-bfb4209d6c07"
      },
      "execution_count": 7,
      "outputs": [
        {
          "output_type": "error",
          "ename": "SyntaxError",
          "evalue": "invalid decimal literal (<ipython-input-7-4effc96eff66>, line 6)",
          "traceback": [
            "\u001b[0;36m  File \u001b[0;32m\"<ipython-input-7-4effc96eff66>\"\u001b[0;36m, line \u001b[0;32m6\u001b[0m\n\u001b[0;31m    plt.axvline(media1 - desviacion_estandar_fabrica1, color='black', linestyle='dashed', linewidth=2, label=f={desviacion_estandar_fabrica1:.2f}')\u001b[0m\n\u001b[0m                                                                                                                                              ^\u001b[0m\n\u001b[0;31mSyntaxError\u001b[0m\u001b[0;31m:\u001b[0m invalid decimal literal\n"
          ]
        }
      ]
    },
    {
      "cell_type": "markdown",
      "source": [
        "Dispersion de los datos"
      ],
      "metadata": {
        "id": "gdHu5CVFjoYy"
      }
    },
    {
      "cell_type": "code",
      "source": [
        "desviacion_estandar_fabrica1= stdev(fabrica1)\n",
        "print(desviacion_estandar_fabrica1)\n"
      ],
      "metadata": {
        "colab": {
          "base_uri": "https://localhost:8080/"
        },
        "id": "mKW8AAKujuD6",
        "outputId": "5d551a28-d83f-4c52-a7c3-e9be92072a8f"
      },
      "execution_count": 8,
      "outputs": [
        {
          "output_type": "stream",
          "name": "stdout",
          "text": [
            "14.137116352982945\n"
          ]
        }
      ]
    },
    {
      "cell_type": "markdown",
      "source": [
        "DENSIDAD"
      ],
      "metadata": {
        "id": "yZk1iBCOo4mC"
      }
    },
    {
      "cell_type": "code",
      "source": [
        "import seaborn as sns"
      ],
      "metadata": {
        "id": "v69_jf2No8ai"
      },
      "execution_count": 9,
      "outputs": []
    },
    {
      "cell_type": "code",
      "source": [
        "# La densidad grafica es una forma de visualizar la distribucion de datos en\n",
        "# un intervalo o periodo de tiempo continuo.\n",
        "# Se basa en un histogramaque usa el suavizadode kernel para trazar valores,\n",
        "# lo que se permite obtener distribuciones mas suaves al reducir el ruido.\n",
        "# Una curva de densidad muestra la ubicacion de la media y la mediana de una distribucion.\n",
        "\n",
        "sns.histplot( x = fabrica1, kde = True, kde_kws = {'bw_adjust': 0.5}, bins =10 )"
      ],
      "metadata": {
        "colab": {
          "base_uri": "https://localhost:8080/",
          "height": 447
        },
        "id": "rlHZSRhXpBVS",
        "outputId": "26c49356-2afb-4185-f927-e5780536f0da"
      },
      "execution_count": 10,
      "outputs": [
        {
          "output_type": "execute_result",
          "data": {
            "text/plain": [
              "<Axes: ylabel='Count'>"
            ]
          },
          "metadata": {},
          "execution_count": 10
        },
        {
          "output_type": "display_data",
          "data": {
            "text/plain": [
              "<Figure size 640x480 with 1 Axes>"
            ],
            "image/png": "[encoded data removed]"
          },
          "metadata": {}
        }
      ]
    }
  ]
}